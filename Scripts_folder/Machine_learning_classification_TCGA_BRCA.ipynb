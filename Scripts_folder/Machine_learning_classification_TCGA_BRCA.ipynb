{
 "cells": [
  {
   "cell_type": "markdown",
   "id": "a5950992-5f9d-4c8c-b982-24c0aa9984bf",
   "metadata": {},
   "source": [
    "## Machine learning classification of TCGA-BRCA gene expression data "
   ]
  },
  {
   "cell_type": "markdown",
   "id": "004d053b-014d-4786-86e1-5efd7111c83e",
   "metadata": {},
   "source": [
    "* I intend to perform machine learning classification methods in the Cancer Genome Atlas Breast Invasive Carcinoma (TCGA-BRCA), a reference to the data can be found at this link : https://portal.gdc.cancer.gov/projects/TCGA-BRCA.\n",
    "* The dataset consists of gene expression quantification data (transcriptomic profile/counts) from a broad sampling of 1084 breast invasive carcinomas from currently 1084 patients. \n",
    "* For this purpose, Logistic regression, Random forest, and Support Vector Machine were performed on the dataset sample_type: \"Solid Tumor\", \"Metastastic\", and \"Solid Tissue Normal\"."
   ]
  },
  {
   "cell_type": "code",
   "execution_count": 1,
   "id": "ac39be8c-2314-4511-b64c-d44322b72f48",
   "metadata": {},
   "outputs": [],
   "source": [
    "# Importing libraries\n",
    "import pandas as pd\n",
    "import numpy as np\n",
    "from sklearn.model_selection import train_test_split\n",
    "from sklearn.preprocessing import StandardScaler\n",
    "from sklearn.linear_model import LogisticRegression\n",
    "from sklearn.ensemble import RandomForestClassifier\n",
    "from sklearn.svm import SVC\n",
    "from sklearn.metrics import accuracy_score, classification_report, confusion_matrix\n",
    "import matplotlib.pyplot as plt\n",
    "import seaborn as sns"
   ]
  },
  {
   "cell_type": "code",
   "execution_count": 2,
   "id": "4c5e114b-16b9-4357-a9dc-3099bf957c9e",
   "metadata": {},
   "outputs": [
    {
     "name": "stdout",
     "output_type": "stream",
     "text": [
      "                     Unnamed: 0  ENSG00000000003.15  ENSG00000000005.6  \\\n",
      "0  TCGA-D8-A146-01A-31R-A115-07                3414                210   \n",
      "1  TCGA-AQ-A0Y5-01A-11R-A14M-07                 879                  9   \n",
      "2  TCGA-C8-A274-01A-11R-A16F-07                8917                  0   \n",
      "3  TCGA-BH-A0BD-01A-11R-A034-07                2071                102   \n",
      "4  TCGA-B6-A1KC-01B-11R-A157-07                2047                 13   \n",
      "\n",
      "   ENSG00000000419.13  ENSG00000000457.14  ENSG00000000460.17  \\\n",
      "0                2108                2100                 560   \n",
      "1                2623                1727                 421   \n",
      "2                2908                4764                2010   \n",
      "3                1784                2336                1735   \n",
      "4                2155                1855                 749   \n",
      "\n",
      "   ENSG00000000938.13  ENSG00000000971.16  ENSG00000001036.14  \\\n",
      "0                 562                3741                2054   \n",
      "1                 218                3828                4182   \n",
      "2                 247                1208                2072   \n",
      "3                 448                3565                2318   \n",
      "4                 156                2433                2566   \n",
      "\n",
      "   ENSG00000001084.13  ...  ENSG00000187003.7  ENSG00000187005.5  \\\n",
      "0                2601  ...                  0                  0   \n",
      "1                2155  ...                  0                  0   \n",
      "2                1804  ...                  1                  1   \n",
      "3                1680  ...                  0                  0   \n",
      "4                1823  ...                  0                  0   \n",
      "\n",
      "   ENSG00000187010.21  ENSG00000187012.11  ENSG00000187013.4  \\\n",
      "0                  30                   3                 16   \n",
      "1                  16                   0                 21   \n",
      "2                  23                   0                  8   \n",
      "3                  14                   1                 11   \n",
      "4                  14                   2                  9   \n",
      "\n",
      "   ENSG00000187017.17  ENSG00000187021.15  ENSG00000187024.15  \\\n",
      "0                1880                   1                   2   \n",
      "1                1065                   1                   3   \n",
      "2                1938                   0                   5   \n",
      "3                2225                   0                   8   \n",
      "4                  45                   1                   1   \n",
      "\n",
      "   ENSG00000187026.3  ENSG00000187033.9  \n",
      "0                  0                  1  \n",
      "1                  0                  0  \n",
      "2                  0                  0  \n",
      "3                  0                  0  \n",
      "4                  0                  0  \n",
      "\n",
      "[5 rows x 16384 columns]\n",
      "(1231, 16384)\n"
     ]
    }
   ],
   "source": [
    "# Loading data \n",
    "data= pd.read_csv(\"C:/Users/amade/Documents/UofSC/Bioinformatics/Github/Machine learning in genomics/tcga_brca_gene_expression.csv\")\n",
    "print(data.head())  # Printing the data\n",
    "print(data.shape)  # Printing the shape of the dataframe "
   ]
  },
  {
   "cell_type": "code",
   "execution_count": 3,
   "id": "eb61bd9b-a8f6-4d65-973c-dd01b5a648b3",
   "metadata": {},
   "outputs": [
    {
     "name": "stdout",
     "output_type": "stream",
     "text": [
      "Unnamed: 0            0\n",
      "ENSG00000000003.15    0\n",
      "ENSG00000000005.6     0\n",
      "ENSG00000000419.13    0\n",
      "ENSG00000000457.14    0\n",
      "                     ..\n",
      "ENSG00000187017.17    0\n",
      "ENSG00000187021.15    0\n",
      "ENSG00000187024.15    0\n",
      "ENSG00000187026.3     0\n",
      "ENSG00000187033.9     0\n",
      "Length: 16384, dtype: int64\n",
      "(1231, 16384)\n"
     ]
    }
   ],
   "source": [
    "# Checking for missing values in the dataframe (N/A)\n",
    "print(data.isnull().sum())\n",
    "# Dropping rows with missing values\n",
    "data1 = data.dropna()   \n",
    "print(data1.shape)   # No missing values (N/A)"
   ]
  },
  {
   "cell_type": "code",
   "execution_count": 6,
   "id": "c9dc55fd-8c32-41bd-ac67-0f72fead9fca",
   "metadata": {},
   "outputs": [],
   "source": [
    "# To train the machine learning models we need numerical values\n",
    "# Dropping the first column of ID genes \n",
    "data1 = data1.iloc[:, 1:]"
   ]
  },
  {
   "cell_type": "code",
   "execution_count": 9,
   "id": "e3a27319-d276-45ce-9c39-01626fe5df78",
   "metadata": {},
   "outputs": [],
   "source": [
    "# Start training the models \n",
    "# Splitting the data into features and targets\n",
    "#X = data1.drop(columns=['sample_type'])  # Obtaining all the columns except the sample type \n",
    "#y = data1['sample_type']   # Obtaining the column of sample type\n",
    "#print(y)  # Printing the sample type: Primary tumor, metastastic, normal tissue"
   ]
  },
  {
   "cell_type": "code",
   "execution_count": 22,
   "id": "9043aefc-5ad0-4af8-b14f-23df6dc23741",
   "metadata": {},
   "outputs": [
    {
     "name": "stdout",
     "output_type": "stream",
     "text": [
      "1111\n",
      "113\n",
      "7\n"
     ]
    }
   ],
   "source": [
    "# Composition of the type of cancer samples:\n",
    "print(np.sum (y== \"Primary Tumor\"))  # 1111 samples\n",
    "print(np.sum (y== \"Solid Tissue Normal\"))  ## 113 samples\n",
    "print(np.sum (y== \"Metastatic\"))  ## 7 samples"
   ]
  },
  {
   "cell_type": "code",
   "execution_count": 23,
   "id": "283e8861-a699-451e-a053-4c7bb574c28d",
   "metadata": {},
   "outputs": [],
   "source": [
    "# Splitting data into training and testing sets. \n",
    "# Based on the size of the dataframe and the size of targets I chosen a testing and training size \n",
    "# Testing sets is set up to 30 % and random_state ensure reproducibility set up to 42 \n",
    "X_train, X_test, y_train, y_test = train_test_split(X, y, test_size = 0.3, random_state = 72)"
   ]
  },
  {
   "cell_type": "code",
   "execution_count": 24,
   "id": "2032c113-c5e5-46ae-b168-117aa024f280",
   "metadata": {},
   "outputs": [],
   "source": [
    "#Standardizing features\n",
    "scaler = StandardScaler()  # Remomving the mean and scaling to unit variance.\n",
    "X_train = scaler.fit_transform(X_train)   # Fitting the scaler to the training set and transform it.\n",
    "X_test = scaler.transform(X_test)  # Converting the testing set through fitted scaler "
   ]
  },
  {
   "cell_type": "code",
   "execution_count": 27,
   "id": "3d4be6d1-85f6-4ffc-b055-38d976295791",
   "metadata": {},
   "outputs": [],
   "source": [
    "# Initializing logistic regression, random forest and support vector machine models. \n",
    "# Using same seed for reproducibility \n",
    "logistic_regression = LogisticRegression(random_state = 72)\n",
    "random_forest = RandomForestClassifier(random_state = 72)\n",
    "svm = SVC(random_state = 72)"
   ]
  },
  {
   "cell_type": "code",
   "execution_count": 28,
   "id": "e84aa29f-518f-4d07-9e21-b47733954d19",
   "metadata": {},
   "outputs": [
    {
     "name": "stderr",
     "output_type": "stream",
     "text": [
      "C:\\Users\\amade\\anacon\\Lib\\site-packages\\sklearn\\linear_model\\_logistic.py:458: ConvergenceWarning: lbfgs failed to converge (status=1):\n",
      "STOP: TOTAL NO. of ITERATIONS REACHED LIMIT.\n",
      "\n",
      "Increase the number of iterations (max_iter) or scale the data as shown in:\n",
      "    https://scikit-learn.org/stable/modules/preprocessing.html\n",
      "Please also refer to the documentation for alternative solver options:\n",
      "    https://scikit-learn.org/stable/modules/linear_model.html#logistic-regression\n",
      "  n_iter_i = _check_optimize_result(\n"
     ]
    },
    {
     "name": "stdout",
     "output_type": "stream",
     "text": [
      "It is ready\n"
     ]
    }
   ],
   "source": [
    "# Training, fit ( train models using training set previously determined)\n",
    "logistic_regression.fit(X_train, y_train)\n",
    "random_forest.fit(X_train, y_train)\n",
    "svm.fit(X_train, y_train)\n",
    "print(\"It is ready\")"
   ]
  },
  {
   "cell_type": "code",
   "execution_count": 29,
   "id": "211ff8da-63db-451a-bf27-503679ed2aa1",
   "metadata": {},
   "outputs": [],
   "source": [
    "# Making predictions on testing data ( 30% ).\n",
    "y_pred_lr = logistic_regression.predict(X_test)\n",
    "y_pred_rf = random_forest.predict(X_test)\n",
    "y_pred_svm = svm.predict(X_test)"
   ]
  },
  {
   "cell_type": "code",
   "execution_count": 30,
   "id": "0079d056-9d06-487d-aa6b-1d8cfa3ccc21",
   "metadata": {},
   "outputs": [
    {
     "name": "stdout",
     "output_type": "stream",
     "text": [
      "Logistic Regression:\n",
      "                     precision    recall  f1-score   support\n",
      "\n",
      "         Metastatic       0.00      0.00      0.00         4\n",
      "      Primary Tumor       0.99      0.94      0.96       335\n",
      "Solid Tissue Normal       0.66      1.00      0.79        31\n",
      "\n",
      "           accuracy                           0.94       370\n",
      "          macro avg       0.55      0.65      0.59       370\n",
      "       weighted avg       0.95      0.94      0.94       370\n",
      "\n",
      "Confusion Matrix:\n",
      "[[  0   4   0]\n",
      " [  3 316  16]\n",
      " [  0   0  31]]\n"
     ]
    }
   ],
   "source": [
    "# Model evaluation of performance. \n",
    "# Logistic regression performance\n",
    "print(\"Logistic Regression:\")\n",
    "print(classification_report(y_test, y_pred_lr))  # Printing precision, recall, f1-score, support for the three types of cancer\n",
    "print(\"Confusion Matrix:\")\n",
    "print(confusion_matrix(y_test, y_pred_lr))"
   ]
  },
  {
   "cell_type": "markdown",
   "id": "aca922ec-ca48-45da-b469-8225ec039b20",
   "metadata": {},
   "source": [
    "#### Interpretation of the Logistic Regression model\n",
    "* Metastatic: Logistic Regression did not identify predictions because the lack of metastatic samples (4)\n",
    "* Primary tumor: Logistic Regression had a 0.99% as samples predicted as primary tumor, 94% of actual primary tumor samples were indetify with a 96% performance in 335 samples from the 30% of the testing dataset\n",
    "* Solid Tissue Normmal: Logistic Regression had a 0.66% as samples predicted as solid tissue normal samples, all the actual solid tissue normal samples were indetify with a 79% of precision in 31 samples from the 30% of the testing dataset"
   ]
  },
  {
   "cell_type": "code",
   "execution_count": 31,
   "id": "c7e93a24-b655-497b-afbb-c93f36295380",
   "metadata": {},
   "outputs": [
    {
     "name": "stdout",
     "output_type": "stream",
     "text": [
      "\n",
      "Random Forest:\n",
      "                     precision    recall  f1-score   support\n",
      "\n",
      "         Metastatic       0.00      0.00      0.00         4\n",
      "      Primary Tumor       0.98      0.99      0.99       335\n",
      "Solid Tissue Normal       0.91      0.94      0.92        31\n",
      "\n",
      "           accuracy                           0.98       370\n",
      "          macro avg       0.63      0.64      0.64       370\n",
      "       weighted avg       0.97      0.98      0.97       370\n",
      "\n",
      "Confusion Matrix:\n",
      "[[  0   4   0]\n",
      " [  0 332   3]\n",
      " [  0   2  29]]\n"
     ]
    },
    {
     "name": "stderr",
     "output_type": "stream",
     "text": [
      "C:\\Users\\amade\\anacon\\Lib\\site-packages\\sklearn\\metrics\\_classification.py:1344: UndefinedMetricWarning: Precision and F-score are ill-defined and being set to 0.0 in labels with no predicted samples. Use `zero_division` parameter to control this behavior.\n",
      "  _warn_prf(average, modifier, msg_start, len(result))\n",
      "C:\\Users\\amade\\anacon\\Lib\\site-packages\\sklearn\\metrics\\_classification.py:1344: UndefinedMetricWarning: Precision and F-score are ill-defined and being set to 0.0 in labels with no predicted samples. Use `zero_division` parameter to control this behavior.\n",
      "  _warn_prf(average, modifier, msg_start, len(result))\n",
      "C:\\Users\\amade\\anacon\\Lib\\site-packages\\sklearn\\metrics\\_classification.py:1344: UndefinedMetricWarning: Precision and F-score are ill-defined and being set to 0.0 in labels with no predicted samples. Use `zero_division` parameter to control this behavior.\n",
      "  _warn_prf(average, modifier, msg_start, len(result))\n"
     ]
    }
   ],
   "source": [
    "# Random forest\n",
    "print(\"\\nRandom Forest:\")\n",
    "print(classification_report(y_test, y_pred_rf)) # Printing precision, recall, f1-score, support for the three types of cancer\n",
    "print(\"Confusion Matrix:\")\n",
    "print(confusion_matrix(y_test, y_pred_rf))"
   ]
  },
  {
   "cell_type": "markdown",
   "id": "2edc49ca-dfd9-4244-bd03-1359d5db1c2c",
   "metadata": {},
   "source": [
    "#### Interpretation of the random forest model\n",
    "* Metastatic: Random forest did not identify predictions because the lack of metastatic samples (4)\n",
    "* Primary tumor: Random forest had a 0.98% samples predicted as primary tumor, 99% of actual primary tumor samples were indetify with a 99% performance in 335 samples from the 30% of the testing dataset\n",
    "* Solid Tissue Normmal: Random forest had a 0.91% as samples predicted as solid tissue normal, all the actual solid tissue normal samples were indetify with a 92% of precision in 31 samples from the 30% of the testing dataset"
   ]
  },
  {
   "cell_type": "code",
   "execution_count": 32,
   "id": "0448d478-af8c-41f0-a305-d5c861b8810d",
   "metadata": {},
   "outputs": [
    {
     "name": "stdout",
     "output_type": "stream",
     "text": [
      "\n",
      "Support Vector Machine:\n",
      "                     precision    recall  f1-score   support\n",
      "\n",
      "         Metastatic       0.00      0.00      0.00         4\n",
      "      Primary Tumor       0.97      0.99      0.98       335\n",
      "Solid Tissue Normal       0.93      0.84      0.88        31\n",
      "\n",
      "           accuracy                           0.97       370\n",
      "          macro avg       0.63      0.61      0.62       370\n",
      "       weighted avg       0.96      0.97      0.96       370\n",
      "\n",
      "Confusion Matrix:\n",
      "[[  0   4   0]\n",
      " [  0 333   2]\n",
      " [  0   5  26]]\n"
     ]
    },
    {
     "name": "stderr",
     "output_type": "stream",
     "text": [
      "C:\\Users\\amade\\anacon\\Lib\\site-packages\\sklearn\\metrics\\_classification.py:1344: UndefinedMetricWarning: Precision and F-score are ill-defined and being set to 0.0 in labels with no predicted samples. Use `zero_division` parameter to control this behavior.\n",
      "  _warn_prf(average, modifier, msg_start, len(result))\n",
      "C:\\Users\\amade\\anacon\\Lib\\site-packages\\sklearn\\metrics\\_classification.py:1344: UndefinedMetricWarning: Precision and F-score are ill-defined and being set to 0.0 in labels with no predicted samples. Use `zero_division` parameter to control this behavior.\n",
      "  _warn_prf(average, modifier, msg_start, len(result))\n",
      "C:\\Users\\amade\\anacon\\Lib\\site-packages\\sklearn\\metrics\\_classification.py:1344: UndefinedMetricWarning: Precision and F-score are ill-defined and being set to 0.0 in labels with no predicted samples. Use `zero_division` parameter to control this behavior.\n",
      "  _warn_prf(average, modifier, msg_start, len(result))\n"
     ]
    }
   ],
   "source": [
    "# Support Vector Machine\n",
    "print(\"\\nSupport Vector Machine:\")\n",
    "print(classification_report(y_test, y_pred_svm))  # Printing precision, recall, f1-score, support for the three types of cancer\n",
    "print(\"Confusion Matrix:\")\n",
    "print(confusion_matrix(y_test, y_pred_svm))"
   ]
  },
  {
   "cell_type": "markdown",
   "id": "19226e52-6f6f-47d0-a436-a0bf26a2db11",
   "metadata": {},
   "source": [
    "#### Interpretation of the Support Vector machine model\n",
    "* Metastatic: Support Vector machine did not identify predictions because the lack of metastatic samples (4)\n",
    "* Primary tumor: Support Vector machine had a 0.97% samples predicted as primary tumor, 99% of actual primary tumor samples were indetify with a 98% performance in 335 samples from the 30% of the testing dataset\n",
    "* Solid Tissue Normmal: Support Vector machine had a 0.93% as samples predicted as solid tissue normal, 84% of the actual solid tissue normal samples were indetify with a 88% of precision in 31 samples from the 30% of the testing dataset"
   ]
  },
  {
   "cell_type": "markdown",
   "id": "b9250da4-81ee-47bb-9c57-1766f32ace03",
   "metadata": {},
   "source": [
    "### Overall conclusion \n",
    "* All three models perform well for primary tumor and solid tissue normal classes, with Random Forest and SVM showing better performance than Logistic Regression.\n",
    "* None of the models are able to correctly identify metastatic samples, probably because of teh amount of data for this sample type. Further improvement can be done by adding additional data or augmenting it.\r",
    "* Random Forest and SVM have the highest overall accuracy, making them the preferred models for this dataset."
   ]
  },
  {
   "cell_type": "code",
   "execution_count": null,
   "id": "3f6649af-5a66-42aa-8d88-41d6c8bbe22f",
   "metadata": {},
   "outputs": [],
   "source": []
  }
 ],
 "metadata": {
  "kernelspec": {
   "display_name": "Python 3 (ipykernel)",
   "language": "python",
   "name": "python3"
  },
  "language_info": {
   "codemirror_mode": {
    "name": "ipython",
    "version": 3
   },
   "file_extension": ".py",
   "mimetype": "text/x-python",
   "name": "python",
   "nbconvert_exporter": "python",
   "pygments_lexer": "ipython3",
   "version": "3.11.7"
  }
 },
 "nbformat": 4,
 "nbformat_minor": 5
}
